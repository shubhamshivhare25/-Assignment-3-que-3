{
 "cells": [
  {
   "cell_type": "code",
   "execution_count": 6,
   "metadata": {},
   "outputs": [
    {
     "name": "stdout",
     "output_type": "stream",
     "text": [
      "Enter a string to calculate the upper and lower letters in the string: \n",
      "The quick Brow Fox\n",
      "\n",
      "Number of Upper case characters:  3\n",
      "\n",
      "Number of Lower case characters:  12\n",
      "\n",
      "Number of Other characters:  3\n",
      "None\n"
     ]
    }
   ],
   "source": [
    "strg = input(\"Enter a string to calculate the upper and lower letters in the string: \\n\")   # accepts a string from user\n",
    "\n",
    "def cnt(strg):    # function for counting the upper and lower case characters in the given string\n",
    "    up = 0       # variable to keep a count of Uppercase characters\n",
    "    lo = 0       # variable to keep a count of Lowercase characters\n",
    "    ot = 0       # variable to keep a count other characters\n",
    "    for letters in strg:          # for loop to iterate through the string\n",
    "        if letters.isupper():     # inbuilt function to check if the character is Uppercase\n",
    "            up += 1               \n",
    "        elif letters.islower():   # inbuilt function to check if the character is Lowercase\n",
    "            lo += 1\n",
    "        else:                     # keeps a count of other characters in the string\n",
    "            ot += 1\n",
    "            \n",
    "    print(\"\\nNumber of Upper case characters: \", up)\n",
    "    print(\"\\nNumber of Lower case characters: \", lo)\n",
    "    print(\"\\nNumber of Other characters: \", ot)\n",
    "    return \n",
    "print(cnt(strg))"
   ]
  },
  {
   "cell_type": "code",
   "execution_count": null,
   "metadata": {},
   "outputs": [],
   "source": []
  }
 ],
 "metadata": {
  "kernelspec": {
   "display_name": "Python 3",
   "language": "python",
   "name": "python3"
  },
  "language_info": {
   "codemirror_mode": {
    "name": "ipython",
    "version": 3
   },
   "file_extension": ".py",
   "mimetype": "text/x-python",
   "name": "python",
   "nbconvert_exporter": "python",
   "pygments_lexer": "ipython3",
   "version": "3.8.5"
  }
 },
 "nbformat": 4,
 "nbformat_minor": 4
}
